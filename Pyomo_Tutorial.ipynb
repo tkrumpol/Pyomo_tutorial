{
  "nbformat": 4,
  "nbformat_minor": 0,
  "metadata": {
    "kernelspec": {
      "display_name": "Python 3",
      "language": "python",
      "name": "python3"
    },
    "language_info": {
      "codemirror_mode": {
        "name": "ipython",
        "version": 3
      },
      "file_extension": ".py",
      "mimetype": "text/x-python",
      "name": "python",
      "nbconvert_exporter": "python",
      "pygments_lexer": "ipython3",
      "version": "3.7.6"
    },
    "colab": {
      "name": "Pyomo_Tutorial.ipynb",
      "provenance": [],
      "include_colab_link": true
    }
  },
  "cells": [
    {
      "cell_type": "markdown",
      "metadata": {
        "id": "view-in-github",
        "colab_type": "text"
      },
      "source": [
        "<a href=\"https://colab.research.google.com/github/tkrumpol/Pyomo_tutorial/blob/main/Pyomo_Tutorial.ipynb\" target=\"_parent\"><img src=\"https://colab.research.google.com/assets/colab-badge.svg\" alt=\"Open In Colab\"/></a>"
      ]
    },
    {
      "cell_type": "markdown",
      "metadata": {
        "id": "Y109nKLRhVDD"
      },
      "source": [
        "# Pyomo Tutorial with NetworkX Visualization\n",
        "\n",
        "This tutorial will focus on the mathematical optimization package [Pyomo](http://www.pyomo.org/about). We will also be covering basics of visualization with [NetworkX](https://networkx.org/) because of the practicality of the example covered in this tutorial. Pyomo is an open source Python based algebraic modeling language (AML). Pyomo allows the user to easily write out model formulations with the readibility of Python and flexibility of using optimized, compiled solvers written in lower level languages. For those unfamiliar with mathematical programming (MP), this is an area that deals with every problem related to mathematical optimization. Problems in areas ranging from operations research to molecular modeling and systems biology can be formulated as mathematical optimization problems. As such, it is paramount to make preliminary modeling tools available to more than just experts and instead use intiutive software to aid in any decision making processes. Here, any problem can usually be partitioned into a few key components:\n",
        "* **Parameters**: These are the known model quantities that are given as input to the problem. This is the data that is available (or features matrix to relate back to class). \n",
        "* **Variables**: These are the unknown model quantities that the model is trying to solve for. The *optimal* values of these variables are the solution of the overall optimization problem. An example could be the shortest path from one location to another. \n",
        "* **Constraints**: These are the inequalities or equations that represent rules that the problem needs to abide by. Something like, the temperature of the reactor must be under 200 degrees. Or, if one person is assigned a task at time t, they may not perform another task at this same time. \n",
        "* **Objective Function**: This function is the overall goal of the problem. Typically this is related to minimizing error, time, or loss. Or equivalent ideas such as maximizing profit. \n",
        "    "
      ]
    },
    {
      "cell_type": "markdown",
      "metadata": {
        "id": "WElYWRGphVDI"
      },
      "source": [
        "## Tutorial Content\n",
        "\n",
        "In this tutorial we will outline how to do basic modeling and visualization with Pyomo and NetworkX. \n",
        "\n",
        "We will cover the following topics in this tutorial:\n",
        "- [Installing the libraries](#Installing-the-libraries)\n",
        "- [A Simple Example](#A-Simple-Example)\n",
        "- [A Practical Example](#A-Practical-Example)\n",
        "   - [Problem Statement](#The-Problem)\n",
        "   - [The Model](#The-Model)\n",
        "   - [Visualizing the Solution](#Visualizing-the-optimal-set-of-routes)\n",
        "- [Summary and References](#Summary-and-References)"
      ]
    },
    {
      "cell_type": "markdown",
      "metadata": {
        "id": "PIRd7qq7hVDJ"
      },
      "source": [
        "## Installing the libraries"
      ]
    },
    {
      "cell_type": "markdown",
      "metadata": {
        "id": "OJl0tf10hVDJ"
      },
      "source": [
        "Before starting, you will need to install pyomo and its dependencies. This can either be done with pip: \n",
        "\n",
        "    $ pip install pyomo\n",
        "\n",
        "Additionally you will need to install some open sourse solvers which will be sufficient for many problems. The solver GLPK is good for mixed-integer linear programs (MILP) and IPOPT for nonlinear programs (NLP). \n",
        "\n",
        "    conda install -c conda-forge glpk\n",
        "    conda install -c conda-forge ipopt\n",
        "      "
      ]
    },
    {
      "cell_type": "markdown",
      "metadata": {
        "id": "gXdg0PQEhVDJ"
      },
      "source": [
        "For the purposes of this tutorial, we will exclusively use the glpk solver. If you are curious about why we have different solvers for different problem formulations, please see some of the resources at the bottom.  "
      ]
    },
    {
      "cell_type": "code",
      "metadata": {
        "id": "Ugr_iP6rhVDJ",
        "outputId": "374b878e-e67f-48b5-b518-df1265a848be"
      },
      "source": [
        "pip install pyomo"
      ],
      "execution_count": null,
      "outputs": [
        {
          "output_type": "stream",
          "text": [
            "Requirement already satisfied: pyomo in /home/tommy/anaconda3/lib/python3.7/site-packages (5.6.6)\n",
            "Requirement already satisfied: ply in /home/tommy/anaconda3/lib/python3.7/site-packages (from pyomo) (3.11)\n",
            "Requirement already satisfied: PyUtilib>=5.7.1 in /home/tommy/anaconda3/lib/python3.7/site-packages (from pyomo) (5.7.1)\n",
            "Requirement already satisfied: six>=1.4 in /home/tommy/anaconda3/lib/python3.7/site-packages (from pyomo) (1.15.0)\n",
            "Requirement already satisfied: appdirs in /home/tommy/anaconda3/lib/python3.7/site-packages (from pyomo) (1.4.3)\n",
            "Requirement already satisfied: nose in /home/tommy/anaconda3/lib/python3.7/site-packages (from PyUtilib>=5.7.1->pyomo) (1.3.7)\n",
            "Note: you may need to restart the kernel to use updated packages.\n"
          ],
          "name": "stdout"
        }
      ]
    },
    {
      "cell_type": "markdown",
      "metadata": {
        "id": "jlK7OiNRhVDK"
      },
      "source": [
        "Installation can be lengthy so please allow it some time to install when running the command in the cell below."
      ]
    },
    {
      "cell_type": "code",
      "metadata": {
        "id": "AkUnactZhVDK",
        "outputId": "105f5ed5-54cb-4e0b-9898-29072a1674a7"
      },
      "source": [
        "!apt-get install -y -qq glpk-utils"
      ],
      "execution_count": null,
      "outputs": [
        {
          "output_type": "stream",
          "text": [
            "Collecting package metadata (current_repodata.json): done\n",
            "Solving environment: \\ \n",
            "The environment is inconsistent, please check the package plan carefully\n",
            "The following packages are causing the inconsistency:\n",
            "\n",
            "  - defaults/linux-64::pango==1.42.4=h049681c_0\n",
            "  - defaults/linux-64::_anaconda_depends==2019.03=py37_0\n",
            "  - defaults/linux-64::anaconda==custom=py37_1\n",
            "done\n",
            "\n",
            "## Package Plan ##\n",
            "\n",
            "  environment location: /home/tommy/anaconda3\n",
            "\n",
            "  added / updated specs:\n",
            "    - glpk\n",
            "\n",
            "\n",
            "The following packages will be downloaded:\n",
            "\n",
            "    package                    |            build\n",
            "    ---------------------------|-----------------\n",
            "    cairo-1.16.0               |    h18b612c_1001         1.5 MB  conda-forge\n",
            "    conda-4.10.0               |   py37h89c1867_1         3.1 MB  conda-forge\n",
            "    fontconfig-2.13.1          |    he4413a7_1000         327 KB  conda-forge\n",
            "    harfbuzz-2.4.0             |       hca77d97_0         791 KB\n",
            "    libuuid-2.32.1             |    h14c3975_1000          26 KB  conda-forge\n",
            "    pango-1.42.4               |       ha030887_1         517 KB  conda-forge\n",
            "    pixman-0.38.0              |    h516909a_1003         594 KB  conda-forge\n",
            "    xorg-kbproto-1.0.7         |    h14c3975_1002          26 KB  conda-forge\n",
            "    xorg-libice-1.0.10         |       h516909a_0          57 KB  conda-forge\n",
            "    xorg-libsm-1.2.3           |    h84519dc_1000          25 KB  conda-forge\n",
            "    xorg-libx11-1.6.12         |       h516909a_0         917 KB  conda-forge\n",
            "    xorg-libxext-1.3.4         |       h516909a_0          51 KB  conda-forge\n",
            "    xorg-libxrender-0.9.10     |    h516909a_1002          31 KB  conda-forge\n",
            "    xorg-renderproto-0.11.1    |    h14c3975_1002           8 KB  conda-forge\n",
            "    xorg-xextproto-7.3.0       |    h14c3975_1002          27 KB  conda-forge\n",
            "    xorg-xproto-7.0.31         |    h14c3975_1007          72 KB  conda-forge\n",
            "    ------------------------------------------------------------\n",
            "                                           Total:         7.9 MB\n",
            "\n",
            "The following NEW packages will be INSTALLED:\n",
            "\n",
            "  xorg-kbproto       conda-forge/linux-64::xorg-kbproto-1.0.7-h14c3975_1002\n",
            "  xorg-libice        conda-forge/linux-64::xorg-libice-1.0.10-h516909a_0\n",
            "  xorg-libsm         conda-forge/linux-64::xorg-libsm-1.2.3-h84519dc_1000\n",
            "  xorg-libx11        conda-forge/linux-64::xorg-libx11-1.6.12-h516909a_0\n",
            "  xorg-libxext       conda-forge/linux-64::xorg-libxext-1.3.4-h516909a_0\n",
            "  xorg-libxrender    conda-forge/linux-64::xorg-libxrender-0.9.10-h516909a_1002\n",
            "  xorg-renderproto   conda-forge/linux-64::xorg-renderproto-0.11.1-h14c3975_1002\n",
            "  xorg-xextproto     conda-forge/linux-64::xorg-xextproto-7.3.0-h14c3975_1002\n",
            "  xorg-xproto        conda-forge/linux-64::xorg-xproto-7.0.31-h14c3975_1007\n",
            "\n",
            "The following packages will be UPDATED:\n",
            "\n",
            "  cairo                 pkgs/main::cairo-1.14.12-h8948797_3 --> conda-forge::cairo-1.16.0-h18b612c_1001\n",
            "  conda                               4.10.0-py37h89c1867_0 --> 4.10.0-py37h89c1867_1\n",
            "  fontconfig         pkgs/main::fontconfig-2.13.0-h9420a91~ --> conda-forge::fontconfig-2.13.1-he4413a7_1000\n",
            "  harfbuzz                                 1.8.8-hffaf4a1_0 --> 2.4.0-hca77d97_0\n",
            "  libuuid               pkgs/main::libuuid-1.0.3-h1bed415_2 --> conda-forge::libuuid-2.32.1-h14c3975_1000\n",
            "  pango                  pkgs/main::pango-1.42.4-h049681c_0 --> conda-forge::pango-1.42.4-ha030887_1\n",
            "\n",
            "The following packages will be SUPERSEDED by a higher-priority channel:\n",
            "\n",
            "  pixman                pkgs/main::pixman-0.40.0-h7b6447c_0 --> conda-forge::pixman-0.38.0-h516909a_1003\n",
            "\n",
            "\n",
            "\n",
            "Downloading and Extracting Packages\n",
            "xorg-libice-1.0.10   | 57 KB     | ##################################### | 100% \n",
            "harfbuzz-2.4.0       | 791 KB    | ##################################### | 100% \n",
            "fontconfig-2.13.1    | 327 KB    | ##################################### | 100% \n",
            "pixman-0.38.0        | 594 KB    | ##################################### | 100% \n",
            "conda-4.10.0         | 3.1 MB    | ##################################### | 100% \n",
            "cairo-1.16.0         | 1.5 MB    | ##################################### | 100% \n",
            "xorg-kbproto-1.0.7   | 26 KB     | ##################################### | 100% \n",
            "xorg-libsm-1.2.3     | 25 KB     | ##################################### | 100% \n",
            "xorg-libx11-1.6.12   | 917 KB    | ##################################### | 100% \n",
            "xorg-libxrender-0.9. | 31 KB     | ##################################### | 100% \n",
            "pango-1.42.4         | 517 KB    | ##################################### | 100% \n",
            "xorg-xproto-7.0.31   | 72 KB     | ##################################### | 100% \n",
            "xorg-libxext-1.3.4   | 51 KB     | ##################################### | 100% \n",
            "libuuid-2.32.1       | 26 KB     | ##################################### | 100% \n",
            "xorg-renderproto-0.1 | 8 KB      | ##################################### | 100% \n",
            "xorg-xextproto-7.3.0 | 27 KB     | ##################################### | 100% \n",
            "Preparing transaction: done\n",
            "Verifying transaction: done\n",
            "Executing transaction: done\n",
            "\n",
            "Note: you may need to restart the kernel to use updated packages.\n"
          ],
          "name": "stdout"
        }
      ]
    },
    {
      "cell_type": "markdown",
      "metadata": {
        "id": "4QyVmlqDhVDL"
      },
      "source": [
        "Now that we have Pyomo and a solver installed, we can import the necessary packages.  "
      ]
    },
    {
      "cell_type": "code",
      "metadata": {
        "id": "9tmSjlZGhVDL"
      },
      "source": [
        "from pyomo.environ import *\n",
        "import numpy as np\n",
        "import matplotlib.pyplot as plt\n",
        "import networkx as nx\n",
        "import pandas as pd"
      ],
      "execution_count": null,
      "outputs": []
    },
    {
      "cell_type": "markdown",
      "metadata": {
        "id": "d7mY_BuohVDL"
      },
      "source": [
        "### A Simple Example\n",
        "\n",
        "Let us first start by examining a simple model:\n",
        "\\begin{align}\n",
        "    \\min_{x_1, x_2} && -2x_1 &- 3x_2 \\\\\n",
        "    \\text{s.t.} && x_1 + x_2  &\\leq 4 \\\\\n",
        "    && x_1 + 2x_2 &\\leq 6 \\\\\n",
        "    && x_1, x_2 &\\geq 0\n",
        "\\end{align}\n",
        "\n",
        " Here we have two continuous variables: $x_1, x_2$, two linear inequalities which lay out a relation that the solution of these variables must maintain, and an objective function. Ultimately, our goal is to find the smallest value of the objective function that still satisfies the two stated inequalities and bounds.  "
      ]
    },
    {
      "cell_type": "markdown",
      "metadata": {
        "id": "elM0TusphVDL"
      },
      "source": [
        "For a simple two dimenstional problem such as this, we can plot the contours of the objective function, feasible region, and constrains to likely figure out by inspection what the optimal solution should be. Since the focus of this tutorial is using Pyomo, we will skip the next few lines of code and focus on the plot of the simple example:"
      ]
    },
    {
      "cell_type": "code",
      "metadata": {
        "id": "6ZB74NQDhVDM"
      },
      "source": [
        "def obj(x1, x2):\n",
        "    return -2*x1 - 3*x2\n",
        "\n",
        "def con1(x2):\n",
        "    return 4 - x2\n",
        "\n",
        "def con2(x2):\n",
        "    return 6 - 2*x2"
      ],
      "execution_count": null,
      "outputs": []
    },
    {
      "cell_type": "code",
      "metadata": {
        "id": "jJP-gvvHhVDM"
      },
      "source": [
        "x1_vals = np.linspace(-5, 10, 1000)\n",
        "x2_vals = np.linspace(-5, 10, 1000)"
      ],
      "execution_count": null,
      "outputs": []
    },
    {
      "cell_type": "code",
      "metadata": {
        "id": "dPChoUrFhVDM"
      },
      "source": [
        "con1_vals = np.array([con1(i) for i in x2_vals])\n",
        "con2_vals = np.array([con2(i) for i in x2_vals])"
      ],
      "execution_count": null,
      "outputs": []
    },
    {
      "cell_type": "code",
      "metadata": {
        "id": "6sx75VichVDM"
      },
      "source": [
        "bound_x1 = np.ones(len(x2_vals)) * 0\n",
        "bound_x2 = np.ones(len(x1_vals)) * 0"
      ],
      "execution_count": null,
      "outputs": []
    },
    {
      "cell_type": "code",
      "metadata": {
        "id": "saZNuL4HhVDN"
      },
      "source": [
        "X1, X2 = np.meshgrid(x1_vals, x2_vals)\n",
        "obj_val = obj(X1, X2)\n",
        "levels = (-14, -10, -5, 0)"
      ],
      "execution_count": null,
      "outputs": []
    },
    {
      "cell_type": "code",
      "metadata": {
        "id": "kZJihl88hVDN",
        "outputId": "ac1c1a7c-1743-43fb-a85c-83d3aad7de24"
      },
      "source": [
        "plt.figure(figsize=(12,8))\n",
        "plt.imshow( ((X1>=0) & (X2>=0) & (X1+2*X2<=6) & (X1+X2<=4)).astype(int) , \n",
        "                extent=(X1.min(),X1.max(),X2.min(),X2.max()),origin=\"lower\", cmap=\"Oranges\")\n",
        "ax = plt.gca()\n",
        "CS = ax.contour(X1, X2, obj_val, levels=levels, colors='k', linestyles={\"dashed\"})\n",
        "ax.clabel(CS, inline=1, fontsize=8)\n",
        "plt.xlim([-1.5,5.0])\n",
        "plt.ylim([-1.5,5.0])\n",
        "plt.plot(con1_vals, x2_vals, 'k', label = \"constraint 1\")\n",
        "plt.plot(con2_vals, x2_vals, 'k', label = \"constraint 2\")\n",
        "plt.plot(bound_x1, x2_vals, 'k', label = \"bound x1\")\n",
        "plt.plot(x1_vals, bound_x2, 'k', label = \"bound x2\")\n",
        "plt.plot(2,2,'ro') \n",
        "plt.xlabel(\"x1\")\n",
        "plt.ylabel(\"x2\")\n",
        "plt.grid()"
      ],
      "execution_count": null,
      "outputs": [
        {
          "output_type": "display_data",
          "data": {
            "image/png": "[encoded data removed]",
            "text/plain": [
              "<Figure size 864x576 with 1 Axes>"
            ]
          },
          "metadata": {
            "tags": [],
            "needs_background": "light"
          }
        }
      ]
    },
    {
      "cell_type": "markdown",
      "metadata": {
        "id": "-eWSMnBjhVDN"
      },
      "source": [
        "The dark red area on the plot above represents the feasible region for this problem.\n",
        "The solid black lines are the constraints.\n",
        "The dashed lines are the values of the objective function.\n",
        "\n",
        "As we can see, the optimal solution should lie at the intersection of ($x_1,x_2$) = (2,2) with an objective function value equal to -10.0"
      ]
    },
    {
      "cell_type": "markdown",
      "metadata": {
        "id": "zBZEqhP_hVDN"
      },
      "source": [
        "To verify and solve this model using Pyomo, we can build the model with the following steps:"
      ]
    },
    {
      "cell_type": "markdown",
      "metadata": {
        "id": "VJyBZncRhVDO"
      },
      "source": [
        "we start by creating an instance of a concrete model and adding our variables and constraints to it:"
      ]
    },
    {
      "cell_type": "code",
      "metadata": {
        "id": "vg1JeuNmhVDO"
      },
      "source": [
        "m = ConcreteModel()"
      ],
      "execution_count": null,
      "outputs": []
    },
    {
      "cell_type": "markdown",
      "metadata": {
        "id": "Lc51QdKthVDO"
      },
      "source": [
        "Then we define our variables $x_1, x_2$ and the domain of values they can take. Here we are constrained to positive values, so we will use the domain NonNegativeReals. The *Var* declares *x* as a variable in Pyomo, and the list 1,2 are the indicies that *x* will take:"
      ]
    },
    {
      "cell_type": "code",
      "metadata": {
        "id": "wnYvOy9ohVDO"
      },
      "source": [
        "m.x = Var([1,2], domain=NonNegativeReals)"
      ],
      "execution_count": null,
      "outputs": []
    },
    {
      "cell_type": "markdown",
      "metadata": {
        "id": "gSS87tkIhVDO"
      },
      "source": [
        "Next we can write out our constraints. Similar to calling variables in Pyomo, the Constraint class will take the expression (*expr*) entered as the inequality that must be satisified with the model:"
      ]
    },
    {
      "cell_type": "code",
      "metadata": {
        "id": "hUjlEHpqhVDO"
      },
      "source": [
        "m.con1 = Constraint(expr = m.x[1] + m.x[2] <= 4)\n",
        "m.con2 = Constraint(expr = m.x[1] + 2*m.x[2] <= 6.0)"
      ],
      "execution_count": null,
      "outputs": []
    },
    {
      "cell_type": "markdown",
      "metadata": {
        "id": "j3OiDYW0hVDO"
      },
      "source": [
        "and lastly our objective function declared with Objective, an expression similar to the Constraint expression we are interested in, and either *minimize* or *maximize* as an arguement indication of whether we want to find the minimum or maximum value that satisfies the rest of the model:"
      ]
    },
    {
      "cell_type": "code",
      "metadata": {
        "id": "gDeiETl_hVDP"
      },
      "source": [
        "m.obj = Objective(expr = -2*m.x[1] - 3*m.x[2], sense=minimize) "
      ],
      "execution_count": null,
      "outputs": []
    },
    {
      "cell_type": "markdown",
      "metadata": {
        "id": "jYJZgP_shVDP"
      },
      "source": [
        "In order to solve this problem, we need to specify the solver. Since both the objective function and constraints are linear, we can use the open source MILP solver we previously installed:"
      ]
    },
    {
      "cell_type": "code",
      "metadata": {
        "id": "2zmaRtFfhVDP"
      },
      "source": [
        "SolverFactory('glpk', executable='/usr/bin/glpsol').solve(m).write()"
      ],
      "execution_count": null,
      "outputs": []
    },
    {
      "cell_type": "markdown",
      "metadata": {
        "id": "mi4r_ZeMhVDP"
      },
      "source": [
        "Now we can check a few things about our solution to make sure they line up with the preliminary plotting we had done above, such as verifying the constraints, final values of the variables, and final objective function value:"
      ]
    },
    {
      "cell_type": "code",
      "metadata": {
        "scrolled": true,
        "id": "1FIHpRIrhVDP",
        "outputId": "b4167085-e20a-4d19-9e6c-69f0348b4ff5"
      },
      "source": [
        "print(\"Constraint 1 is active at the optimal solution:\",m.con1.active)\n",
        "print(\"Constraint 2 is active at the optimal solution:\",m.con2.active)\n",
        "print(\"The optimal value of (x1,x2):({})\".format([value(i) for i in m.x.values()]))\n",
        "print(\"The optimal value of the objective function is:\",  value(m.obj))"
      ],
      "execution_count": null,
      "outputs": [
        {
          "output_type": "stream",
          "text": [
            "Constraint 1 is active at the optimal solution: True\n",
            "Constraint 2 is active at the optimal solution: True\n",
            "The optimal value of (x1,x2):([2.0, 2.0])\n",
            "The optimal value of the objective function is: -10.0\n"
          ],
          "name": "stdout"
        }
      ]
    },
    {
      "cell_type": "markdown",
      "metadata": {
        "id": "CZtsPeynhVDQ"
      },
      "source": [
        "## A Practical Example"
      ]
    },
    {
      "cell_type": "markdown",
      "metadata": {
        "id": "Jf5nWTW4hVDQ"
      },
      "source": [
        "Now that we have an idea for how formulating a simple model looks like with an objective functions and some constraints, let's look at a more practical example using Pyomo and NetworkX."
      ]
    },
    {
      "cell_type": "markdown",
      "metadata": {
        "id": "-Kx7QYpRhVDQ"
      },
      "source": [
        "### The Problem\n",
        "\n",
        "A common problem related to network design is related to detemine the best route for moving product from where it is produced to where it will eventually by purchased by the consumer.\n",
        "We will outline an example network design model. Here we have nodes which are partitioned into three sets: supply, transshipment, and demand.\n",
        "* Supply Nodes: Each able to produce at certain quantity of product\n",
        "* Transshippment Nodes: Intermediate nodes that have no supply or demand\n",
        "* Demand Nodes: Nodes that must receive the required amount of product\n",
        "\n",
        "We will also outline a few additional constraints:\n",
        "* No link connection (edge) may carry more than a certain amount. This can be thought of as an upper bound on the total amount a truck could carry in for example.\n",
        "* Amounts can only move in-between or forward from supply to transshippment to demand nodes. That is, supply nodes may send material between one another, but once the material has been shipped forward to a transshippment or demand node, it may not travel or be sent back."
      ]
    },
    {
      "cell_type": "markdown",
      "metadata": {
        "id": "MjxZ6Vm3hVDQ"
      },
      "source": [
        "### The Model\n",
        "#### Given\n",
        "* *N* = set of all nodes = $N_S + N_T + N_D$ (supply, transshippment, demand nodes)\n",
        "* *A* = set of edges from node *i* to node *j* that may have flow\n",
        "* *$S_i$* = Supply capacity of each supply node *i* in $N_S$\n",
        "* *$D_i$* = Demand of each demand node *i* in $N_D$\n",
        "* *$c_{ij}$* = Cost of using the edge between node *i* to node *j* to ship material. For simplicity this cost will encapulate the entire cost (shipping, handeling, etc.)\n",
        "* *$u_{ij}$* = Maximum amount of shipping material using the edge between node *i* to node *j*. For simplicity this capacity will be the same for all edges  \n",
        "\n",
        "#### Determine\n",
        "* *$x_{ij}$* = The amount to be shipped from node *i* to node *j*\n",
        "\n",
        "#### Mathematical Model\n",
        "The objective function is to minimize the total cost.\n",
        "The assiciated constraints can be thought of as mass balances around the different sets of nodes. \n",
        "* The first constraint enforces that the amount coming into or out of the supply nodes must be less than the total amount of supply that it can produce. \n",
        "* The second constraint ensures that any amount going into the transhippment nodes is exactly equal to the amount going out. These nodes cannot store any product. \n",
        "* The third constraint satisfies the demand for each demand node. \n",
        "* The last constraint is an upper bound on the capacity of a link\n",
        "\\begin{align}\n",
        "    \\min_{x_{ij}} && &\\sum_{i,j \\in A} c_{ij}x_{ij} \\\\\n",
        "    \\text{s.t.} && 0 &\\leq \\sum_{j \\in V} x_{ij} - \\sum_{j \\in V} x_{ji}  \\leq S_i  & \\forall i \\in V_S \\\\\n",
        "    && &\\sum_{j \\in V} x_{ij} - \\sum_{j \\in V} x_{ji}  = 0  & \\forall i \\in V_T \\\\\n",
        "    && &\\sum_{j \\in V} x_{ji} - \\sum_{j \\in V} x_{ij}  \\leq D_i  & \\forall i \\in V_D \\\\\n",
        "    && &0 \\leq x_{ij}\\leq u_{ij}\n",
        "\\end{align}"
      ]
    },
    {
      "cell_type": "markdown",
      "metadata": {
        "id": "BSaAuk5XhVDR"
      },
      "source": [
        "#### Input Data for the model\n",
        "* $N_S$ = {1,2,3} supply nodes\n",
        "* $N_T$ = {4,5} transshippment nodes\n",
        "* $N_D$ = {6,7} demand nodes\n",
        "* $u_{ij}$ = 200\n",
        "* $S$ = {1: 200, 2: 300, 3: 100}\n",
        "* $D$ = {6: 400, 7: 180}"
      ]
    },
    {
      "cell_type": "markdown",
      "metadata": {
        "id": "1m4UuHVUhVDR"
      },
      "source": [
        "We start by creating lists for all of the necessary nodes"
      ]
    },
    {
      "cell_type": "code",
      "metadata": {
        "id": "ljGbFeV7hVDR"
      },
      "source": [
        "nodes = list(range(1,8))\n",
        "supply_nodes = list(range(1,4))\n",
        "transshippment_nodes = list(range(4,6))\n",
        "demand_nodes = list(range(6,8))"
      ],
      "execution_count": null,
      "outputs": []
    },
    {
      "cell_type": "markdown",
      "metadata": {
        "id": "yevp8zgMhVDR"
      },
      "source": [
        "Then we create dictionaries for the supply and demand nodes where the values in the dictionary are the maximum total amount the node can produce or the amount demanded.  We also include the maximum capacity link. As an example, node 1 can at most produce 200 units of product and node 7 must receive 180 units to satisfy the demand."
      ]
    },
    {
      "cell_type": "code",
      "metadata": {
        "id": "LpzD8u6MhVDR"
      },
      "source": [
        "supply = {1: 200.0,\n",
        "          2: 300.0,\n",
        "          3: 100.0}\n",
        "demand = {6: 400.0,\n",
        "          7: 180.0}\n",
        "max_capacity = 200.0"
      ],
      "execution_count": null,
      "outputs": []
    },
    {
      "cell_type": "markdown",
      "metadata": {
        "id": "w0EL7GPOhVDR"
      },
      "source": [
        "Next we have our supplied cost table. This would typically come from some database, where the cost from shipping from node *i* to node *j* in some unit value is each row, column entry. Any paths that are not allowed are highlighted in black. They are marked by \"flag\" values of -1 for simplicity. The paths that are not allowed are any backtracking and any flow from a node back to itself (as stated in the problem statement).  "
      ]
    },
    {
      "cell_type": "code",
      "metadata": {
        "id": "Gqylta_khVDR",
        "outputId": "a32f00f4-56e3-446e-bb3d-034ac0cc99dd"
      },
      "source": [
        "cost_table = np.array([[-1.0, 5.0, 3.0, 5.0, 5.0, 20.0, 20.0],\n",
        "                       [9.0, -1.0, 9.0, 1.0, 1.0, 8.0, 15.0],\n",
        "                       [0.4, 8.0, -1.0, 1.0, 0.5, 10.0, 12.0],\n",
        "                       [-1.0, -1.0, -1.0, -1.0, 1.2, 2.0, 12.0],\n",
        "                       [-1.0, -1.0, -1.0, 0.8, -1.0, 2.0, 12.0],\n",
        "                       [-1.0, -1.0, -1.0, -1.0, -1.0, -1.0, 1.0],\n",
        "                       [-1.0, -1.0, -1.0, -1.0, -1.0, 7.0, -1.0]])\n",
        "df = pd.DataFrame(cost_table, columns = nodes, index=nodes)\n",
        "# Visualize the entries that are not allowed by highlighting them in black. \n",
        "df = df.style.highlight_min(color='black').set_precision(2)\n",
        "df"
      ],
      "execution_count": null,
      "outputs": [
        {
          "output_type": "execute_result",
          "data": {
            "text/html": [
              "<style  type=\"text/css\" >\n",
              "    #T_1f46dd40_97c5_11eb_b4aa_e72fe8862845row0_col0 {\n",
              "            background-color:  black;\n",
              "        }    #T_1f46dd40_97c5_11eb_b4aa_e72fe8862845row1_col1 {\n",
              "            background-color:  black;\n",
              "        }    #T_1f46dd40_97c5_11eb_b4aa_e72fe8862845row2_col2 {\n",
              "            background-color:  black;\n",
              "        }    #T_1f46dd40_97c5_11eb_b4aa_e72fe8862845row3_col0 {\n",
              "            background-color:  black;\n",
              "        }    #T_1f46dd40_97c5_11eb_b4aa_e72fe8862845row3_col1 {\n",
              "            background-color:  black;\n",
              "        }    #T_1f46dd40_97c5_11eb_b4aa_e72fe8862845row3_col2 {\n",
              "            background-color:  black;\n",
              "        }    #T_1f46dd40_97c5_11eb_b4aa_e72fe8862845row3_col3 {\n",
              "            background-color:  black;\n",
              "        }    #T_1f46dd40_97c5_11eb_b4aa_e72fe8862845row4_col0 {\n",
              "            background-color:  black;\n",
              "        }    #T_1f46dd40_97c5_11eb_b4aa_e72fe8862845row4_col1 {\n",
              "            background-color:  black;\n",
              "        }    #T_1f46dd40_97c5_11eb_b4aa_e72fe8862845row4_col2 {\n",
              "            background-color:  black;\n",
              "        }    #T_1f46dd40_97c5_11eb_b4aa_e72fe8862845row4_col4 {\n",
              "            background-color:  black;\n",
              "        }    #T_1f46dd40_97c5_11eb_b4aa_e72fe8862845row5_col0 {\n",
              "            background-color:  black;\n",
              "        }    #T_1f46dd40_97c5_11eb_b4aa_e72fe8862845row5_col1 {\n",
              "            background-color:  black;\n",
              "        }    #T_1f46dd40_97c5_11eb_b4aa_e72fe8862845row5_col2 {\n",
              "            background-color:  black;\n",
              "        }    #T_1f46dd40_97c5_11eb_b4aa_e72fe8862845row5_col3 {\n",
              "            background-color:  black;\n",
              "        }    #T_1f46dd40_97c5_11eb_b4aa_e72fe8862845row5_col4 {\n",
              "            background-color:  black;\n",
              "        }    #T_1f46dd40_97c5_11eb_b4aa_e72fe8862845row5_col5 {\n",
              "            background-color:  black;\n",
              "        }    #T_1f46dd40_97c5_11eb_b4aa_e72fe8862845row6_col0 {\n",
              "            background-color:  black;\n",
              "        }    #T_1f46dd40_97c5_11eb_b4aa_e72fe8862845row6_col1 {\n",
              "            background-color:  black;\n",
              "        }    #T_1f46dd40_97c5_11eb_b4aa_e72fe8862845row6_col2 {\n",
              "            background-color:  black;\n",
              "        }    #T_1f46dd40_97c5_11eb_b4aa_e72fe8862845row6_col3 {\n",
              "            background-color:  black;\n",
              "        }    #T_1f46dd40_97c5_11eb_b4aa_e72fe8862845row6_col4 {\n",
              "            background-color:  black;\n",
              "        }    #T_1f46dd40_97c5_11eb_b4aa_e72fe8862845row6_col6 {\n",
              "            background-color:  black;\n",
              "        }</style><table id=\"T_1f46dd40_97c5_11eb_b4aa_e72fe8862845\" ><thead>    <tr>        <th class=\"blank level0\" ></th>        <th class=\"col_heading level0 col0\" >1</th>        <th class=\"col_heading level0 col1\" >2</th>        <th class=\"col_heading level0 col2\" >3</th>        <th class=\"col_heading level0 col3\" >4</th>        <th class=\"col_heading level0 col4\" >5</th>        <th class=\"col_heading level0 col5\" >6</th>        <th class=\"col_heading level0 col6\" >7</th>    </tr></thead><tbody>\n",
              "                <tr>\n",
              "                        <th id=\"T_1f46dd40_97c5_11eb_b4aa_e72fe8862845level0_row0\" class=\"row_heading level0 row0\" >1</th>\n",
              "                        <td id=\"T_1f46dd40_97c5_11eb_b4aa_e72fe8862845row0_col0\" class=\"data row0 col0\" >-1.00</td>\n",
              "                        <td id=\"T_1f46dd40_97c5_11eb_b4aa_e72fe8862845row0_col1\" class=\"data row0 col1\" >5.00</td>\n",
              "                        <td id=\"T_1f46dd40_97c5_11eb_b4aa_e72fe8862845row0_col2\" class=\"data row0 col2\" >3.00</td>\n",
              "                        <td id=\"T_1f46dd40_97c5_11eb_b4aa_e72fe8862845row0_col3\" class=\"data row0 col3\" >5.00</td>\n",
              "                        <td id=\"T_1f46dd40_97c5_11eb_b4aa_e72fe8862845row0_col4\" class=\"data row0 col4\" >5.00</td>\n",
              "                        <td id=\"T_1f46dd40_97c5_11eb_b4aa_e72fe8862845row0_col5\" class=\"data row0 col5\" >20.00</td>\n",
              "                        <td id=\"T_1f46dd40_97c5_11eb_b4aa_e72fe8862845row0_col6\" class=\"data row0 col6\" >20.00</td>\n",
              "            </tr>\n",
              "            <tr>\n",
              "                        <th id=\"T_1f46dd40_97c5_11eb_b4aa_e72fe8862845level0_row1\" class=\"row_heading level0 row1\" >2</th>\n",
              "                        <td id=\"T_1f46dd40_97c5_11eb_b4aa_e72fe8862845row1_col0\" class=\"data row1 col0\" >9.00</td>\n",
              "                        <td id=\"T_1f46dd40_97c5_11eb_b4aa_e72fe8862845row1_col1\" class=\"data row1 col1\" >-1.00</td>\n",
              "                        <td id=\"T_1f46dd40_97c5_11eb_b4aa_e72fe8862845row1_col2\" class=\"data row1 col2\" >9.00</td>\n",
              "                        <td id=\"T_1f46dd40_97c5_11eb_b4aa_e72fe8862845row1_col3\" class=\"data row1 col3\" >1.00</td>\n",
              "                        <td id=\"T_1f46dd40_97c5_11eb_b4aa_e72fe8862845row1_col4\" class=\"data row1 col4\" >1.00</td>\n",
              "                        <td id=\"T_1f46dd40_97c5_11eb_b4aa_e72fe8862845row1_col5\" class=\"data row1 col5\" >8.00</td>\n",
              "                        <td id=\"T_1f46dd40_97c5_11eb_b4aa_e72fe8862845row1_col6\" class=\"data row1 col6\" >15.00</td>\n",
              "            </tr>\n",
              "            <tr>\n",
              "                        <th id=\"T_1f46dd40_97c5_11eb_b4aa_e72fe8862845level0_row2\" class=\"row_heading level0 row2\" >3</th>\n",
              "                        <td id=\"T_1f46dd40_97c5_11eb_b4aa_e72fe8862845row2_col0\" class=\"data row2 col0\" >0.40</td>\n",
              "                        <td id=\"T_1f46dd40_97c5_11eb_b4aa_e72fe8862845row2_col1\" class=\"data row2 col1\" >8.00</td>\n",
              "                        <td id=\"T_1f46dd40_97c5_11eb_b4aa_e72fe8862845row2_col2\" class=\"data row2 col2\" >-1.00</td>\n",
              "                        <td id=\"T_1f46dd40_97c5_11eb_b4aa_e72fe8862845row2_col3\" class=\"data row2 col3\" >1.00</td>\n",
              "                        <td id=\"T_1f46dd40_97c5_11eb_b4aa_e72fe8862845row2_col4\" class=\"data row2 col4\" >0.50</td>\n",
              "                        <td id=\"T_1f46dd40_97c5_11eb_b4aa_e72fe8862845row2_col5\" class=\"data row2 col5\" >10.00</td>\n",
              "                        <td id=\"T_1f46dd40_97c5_11eb_b4aa_e72fe8862845row2_col6\" class=\"data row2 col6\" >12.00</td>\n",
              "            </tr>\n",
              "            <tr>\n",
              "                        <th id=\"T_1f46dd40_97c5_11eb_b4aa_e72fe8862845level0_row3\" class=\"row_heading level0 row3\" >4</th>\n",
              "                        <td id=\"T_1f46dd40_97c5_11eb_b4aa_e72fe8862845row3_col0\" class=\"data row3 col0\" >-1.00</td>\n",
              "                        <td id=\"T_1f46dd40_97c5_11eb_b4aa_e72fe8862845row3_col1\" class=\"data row3 col1\" >-1.00</td>\n",
              "                        <td id=\"T_1f46dd40_97c5_11eb_b4aa_e72fe8862845row3_col2\" class=\"data row3 col2\" >-1.00</td>\n",
              "                        <td id=\"T_1f46dd40_97c5_11eb_b4aa_e72fe8862845row3_col3\" class=\"data row3 col3\" >-1.00</td>\n",
              "                        <td id=\"T_1f46dd40_97c5_11eb_b4aa_e72fe8862845row3_col4\" class=\"data row3 col4\" >1.20</td>\n",
              "                        <td id=\"T_1f46dd40_97c5_11eb_b4aa_e72fe8862845row3_col5\" class=\"data row3 col5\" >2.00</td>\n",
              "                        <td id=\"T_1f46dd40_97c5_11eb_b4aa_e72fe8862845row3_col6\" class=\"data row3 col6\" >12.00</td>\n",
              "            </tr>\n",
              "            <tr>\n",
              "                        <th id=\"T_1f46dd40_97c5_11eb_b4aa_e72fe8862845level0_row4\" class=\"row_heading level0 row4\" >5</th>\n",
              "                        <td id=\"T_1f46dd40_97c5_11eb_b4aa_e72fe8862845row4_col0\" class=\"data row4 col0\" >-1.00</td>\n",
              "                        <td id=\"T_1f46dd40_97c5_11eb_b4aa_e72fe8862845row4_col1\" class=\"data row4 col1\" >-1.00</td>\n",
              "                        <td id=\"T_1f46dd40_97c5_11eb_b4aa_e72fe8862845row4_col2\" class=\"data row4 col2\" >-1.00</td>\n",
              "                        <td id=\"T_1f46dd40_97c5_11eb_b4aa_e72fe8862845row4_col3\" class=\"data row4 col3\" >0.80</td>\n",
              "                        <td id=\"T_1f46dd40_97c5_11eb_b4aa_e72fe8862845row4_col4\" class=\"data row4 col4\" >-1.00</td>\n",
              "                        <td id=\"T_1f46dd40_97c5_11eb_b4aa_e72fe8862845row4_col5\" class=\"data row4 col5\" >2.00</td>\n",
              "                        <td id=\"T_1f46dd40_97c5_11eb_b4aa_e72fe8862845row4_col6\" class=\"data row4 col6\" >12.00</td>\n",
              "            </tr>\n",
              "            <tr>\n",
              "                        <th id=\"T_1f46dd40_97c5_11eb_b4aa_e72fe8862845level0_row5\" class=\"row_heading level0 row5\" >6</th>\n",
              "                        <td id=\"T_1f46dd40_97c5_11eb_b4aa_e72fe8862845row5_col0\" class=\"data row5 col0\" >-1.00</td>\n",
              "                        <td id=\"T_1f46dd40_97c5_11eb_b4aa_e72fe8862845row5_col1\" class=\"data row5 col1\" >-1.00</td>\n",
              "                        <td id=\"T_1f46dd40_97c5_11eb_b4aa_e72fe8862845row5_col2\" class=\"data row5 col2\" >-1.00</td>\n",
              "                        <td id=\"T_1f46dd40_97c5_11eb_b4aa_e72fe8862845row5_col3\" class=\"data row5 col3\" >-1.00</td>\n",
              "                        <td id=\"T_1f46dd40_97c5_11eb_b4aa_e72fe8862845row5_col4\" class=\"data row5 col4\" >-1.00</td>\n",
              "                        <td id=\"T_1f46dd40_97c5_11eb_b4aa_e72fe8862845row5_col5\" class=\"data row5 col5\" >-1.00</td>\n",
              "                        <td id=\"T_1f46dd40_97c5_11eb_b4aa_e72fe8862845row5_col6\" class=\"data row5 col6\" >1.00</td>\n",
              "            </tr>\n",
              "            <tr>\n",
              "                        <th id=\"T_1f46dd40_97c5_11eb_b4aa_e72fe8862845level0_row6\" class=\"row_heading level0 row6\" >7</th>\n",
              "                        <td id=\"T_1f46dd40_97c5_11eb_b4aa_e72fe8862845row6_col0\" class=\"data row6 col0\" >-1.00</td>\n",
              "                        <td id=\"T_1f46dd40_97c5_11eb_b4aa_e72fe8862845row6_col1\" class=\"data row6 col1\" >-1.00</td>\n",
              "                        <td id=\"T_1f46dd40_97c5_11eb_b4aa_e72fe8862845row6_col2\" class=\"data row6 col2\" >-1.00</td>\n",
              "                        <td id=\"T_1f46dd40_97c5_11eb_b4aa_e72fe8862845row6_col3\" class=\"data row6 col3\" >-1.00</td>\n",
              "                        <td id=\"T_1f46dd40_97c5_11eb_b4aa_e72fe8862845row6_col4\" class=\"data row6 col4\" >-1.00</td>\n",
              "                        <td id=\"T_1f46dd40_97c5_11eb_b4aa_e72fe8862845row6_col5\" class=\"data row6 col5\" >7.00</td>\n",
              "                        <td id=\"T_1f46dd40_97c5_11eb_b4aa_e72fe8862845row6_col6\" class=\"data row6 col6\" >-1.00</td>\n",
              "            </tr>\n",
              "    </tbody></table>"
            ],
            "text/plain": [
              "<pandas.io.formats.style.Styler at 0x7ff166b8bad0>"
            ]
          },
          "metadata": {
            "tags": []
          },
          "execution_count": 18
        }
      ]
    },
    {
      "cell_type": "markdown",
      "metadata": {
        "id": "an2hrvuDhVDS"
      },
      "source": [
        "We will create a dictionary for each node pair to the cost value. This will be used to initialize the table inside Pyomo. "
      ]
    },
    {
      "cell_type": "code",
      "metadata": {
        "id": "q9J61k1rhVDS",
        "outputId": "26c1f206-5298-4089-dfff-111e4a11216f"
      },
      "source": [
        "cost = {(i,j):cost_table[i-1,j-1] for i in nodes for j in nodes}\n",
        "# Example key value pair\n",
        "cost[(1,2)]"
      ],
      "execution_count": null,
      "outputs": [
        {
          "output_type": "execute_result",
          "data": {
            "text/plain": [
              "5.0"
            ]
          },
          "metadata": {
            "tags": []
          },
          "execution_count": 19
        }
      ]
    },
    {
      "cell_type": "markdown",
      "metadata": {
        "id": "xG_iqtPlhVDS"
      },
      "source": [
        "To get a better understanding of what these routes might look like on a graph, we will take advantage of the Python package NetworkX. We will create a list of each of the node connections. This can be done by iterating through the cost table and only including the entries which are not equal to our disallowed -1 value."
      ]
    },
    {
      "cell_type": "code",
      "metadata": {
        "id": "YxtZY_D3hVDS",
        "outputId": "5745d02e-45bb-4332-8853-145406d61e45"
      },
      "source": [
        "possible_routes = [key for key, val in cost.items() if val != -1]\n",
        "# The first 10 possible routes (edges)\n",
        "possible_routes[:10]"
      ],
      "execution_count": null,
      "outputs": [
        {
          "output_type": "execute_result",
          "data": {
            "text/plain": [
              "[(1, 2),\n",
              " (1, 3),\n",
              " (1, 4),\n",
              " (1, 5),\n",
              " (1, 6),\n",
              " (1, 7),\n",
              " (2, 1),\n",
              " (2, 3),\n",
              " (2, 4),\n",
              " (2, 5)]"
            ]
          },
          "metadata": {
            "tags": []
          },
          "execution_count": 20
        }
      ]
    },
    {
      "cell_type": "markdown",
      "metadata": {
        "id": "gFm50DaihVDS"
      },
      "source": [
        "#### Visualizing all possible routes\n",
        "Next we can create a directed graph and add all of the edges from the list we just created:"
      ]
    },
    {
      "cell_type": "code",
      "metadata": {
        "id": "AA5NgmTxhVDT"
      },
      "source": [
        "G_routes = nx.DiGraph()\n",
        "G_routes.add_edges_from(possible_routes)\n",
        "for edge in G_routes.edges:\n",
        "    G_routes.edges[edge]['Cost'] = cost[edge]"
      ],
      "execution_count": null,
      "outputs": []
    },
    {
      "cell_type": "markdown",
      "metadata": {
        "id": "FB1QVJ8ghVDT"
      },
      "source": [
        "To make the nodes well spaced for this visualization, we will use the *pos* argument to the draw method. This allows us to pass in coordinates from a Python dictionary to place our nodes in a desired format. For this problem, we will place the supply nodes on the left, transshippment nodes in the middle, and demand nodes on the right. As we can see, there are many possible routes in which to ship material each with a different associated cost. "
      ]
    },
    {
      "cell_type": "code",
      "metadata": {
        "id": "B8vU0YfOhVDT",
        "outputId": "c14e8f24-3b4e-41f4-9364-0b3a67fe3e38"
      },
      "source": [
        "nodePos = { 1: [-1,1], \n",
        "            2: [-0.75,0],\n",
        "            3: [-1,-1],\n",
        "            4: [0,0.5],\n",
        "            5: [0,-0.5],\n",
        "            6: [1,0.5],\n",
        "            7: [1,-0.5]}\n",
        "plt.figure(figsize=(12,8))\n",
        "# draw the routes with their specified positions\n",
        "nx.draw(G_routes, pos=nodePos)\n",
        "labels = nx.get_edge_attributes(G_routes,'Cost')\n",
        "# label the edges with their associated costs\n",
        "nx.draw_networkx_edge_labels(G_routes, pos=nodePos)\n",
        "print(\"The set of all possible routes\")"
      ],
      "execution_count": null,
      "outputs": [
        {
          "output_type": "stream",
          "text": [
            "The set of all possible routes\n"
          ],
          "name": "stdout"
        },
        {
          "output_type": "display_data",
          "data": {
            "image/png": "[encoded data removed]",
            "text/plain": [
              "<Figure size 864x576 with 1 Axes>"
            ]
          },
          "metadata": {
            "tags": []
          }
        }
      ]
    },
    {
      "cell_type": "markdown",
      "metadata": {
        "id": "D8N627euhVDT"
      },
      "source": [
        "Now let's formulate this as a mathematical program in Pyomo. Again we begin by declaring our Concrete Model:"
      ]
    },
    {
      "cell_type": "code",
      "metadata": {
        "id": "B-zfaA7WhVDT"
      },
      "source": [
        "m = ConcreteModel()"
      ],
      "execution_count": null,
      "outputs": []
    },
    {
      "cell_type": "markdown",
      "metadata": {
        "id": "vjn8ZY_LhVDT"
      },
      "source": [
        "where we will have two sets *i* and *j* for the set of nodes. These will be initialized as Sets using the list of nodes from the input data:"
      ]
    },
    {
      "cell_type": "code",
      "metadata": {
        "id": "CMFnYhz3hVDT"
      },
      "source": [
        "m.i = Set(initialize=nodes, doc=\"Nodes i\")\n",
        "m.j = Set(initialize=nodes, doc=\"Nodes j\")"
      ],
      "execution_count": null,
      "outputs": []
    },
    {
      "cell_type": "markdown",
      "metadata": {
        "id": "fLXL6XzfhVDU"
      },
      "source": [
        "next we can introduce all of our parameters. For the Param class in Pyomo, we need to first consider what indicies the parameter is indexed over. For our supply and demand, these are simply the lists of supply and demand nodes. For the costs and capacities, these are for every edge *i* and *j* . The indicies need to correspond to the keys in the dictionaries used to initialize the parameters."
      ]
    },
    {
      "cell_type": "code",
      "metadata": {
        "id": "2fm7nXRPhVDU"
      },
      "source": [
        "m.Supply = Param(supply_nodes, initialize=supply, doc=\"Supply Capacity of Plant i\")\n",
        "m.Demand = Param(demand_nodes, initialize=demand, doc=\"Demand from Market i\")\n",
        "m.cost = Param(m.i, m.j, initialize = cost, doc=\"Cost from node i to j\")\n",
        "m.capacity = Param(m.i, m.j, initialize = max_capacity, doc=\"Capacity of link i to j\")"
      ],
      "execution_count": null,
      "outputs": []
    },
    {
      "cell_type": "markdown",
      "metadata": {
        "id": "y_Jwl5ONhVDU"
      },
      "source": [
        "If we want to see any of the sets, parameters, constraints, etc., one can use the .pprint() to access information:"
      ]
    },
    {
      "cell_type": "code",
      "metadata": {
        "id": "Glyx5YdYhVDU",
        "outputId": "99e4ecaf-3aa8-4cca-c8c4-826cb66a90fe"
      },
      "source": [
        "m.Supply.pprint()"
      ],
      "execution_count": null,
      "outputs": [
        {
          "output_type": "stream",
          "text": [
            "Supply : Supply Capacity of Plant i\n",
            "    Size=3, Index=Supply_index, Domain=Any, Default=None, Mutable=False\n",
            "    Key : Value\n",
            "      1 : 200.0\n",
            "      2 : 300.0\n",
            "      3 : 100.0\n"
          ],
          "name": "stdout"
        }
      ]
    },
    {
      "cell_type": "markdown",
      "metadata": {
        "id": "UXjOYpv0hVDU"
      },
      "source": [
        "next we will add the variable that will represent the amount of material transferred over each edge. The amount is indexed over every possible set of nodes *i* and *j*, and we can apply bounds to this variable so that no amount exceeds the capacity constraint:"
      ]
    },
    {
      "cell_type": "code",
      "metadata": {
        "id": "HGd8HiSvhVDU"
      },
      "source": [
        "m.amount = Var(m.i, m.j, initialize=10, bounds = (0.0, max_capacity), doc=\"Amount from node i to j\")"
      ],
      "execution_count": null,
      "outputs": []
    },
    {
      "cell_type": "markdown",
      "metadata": {
        "id": "zBPTESJhhVDU"
      },
      "source": [
        "Now we can add out model constraints, where we write a function to represent each constraint. The constraints are then added to the model similar to the other model aspects. Every constraint accepts the model as an input argument. Additional arguments are iterators for the constraints. "
      ]
    },
    {
      "cell_type": "code",
      "metadata": {
        "id": "dpCY4OkThVDU"
      },
      "source": [
        "def _supply_constraint(m, i):\n",
        "    return sum(m.amount[i,j] for j in m.j) - sum(m.amount[j,i] for j in m.j) <= m.Supply[i]\n",
        "m.supply_constraint = Constraint(supply_nodes, rule = _supply_constraint)\n",
        "\n",
        "def _transshippment_constraint(m, i):\n",
        "    return sum(m.amount[i,j] for j in m.j) - sum(m.amount[j,i] for j in m.j) == 0\n",
        "m.transshippment_constraint = Constraint(transshippment_nodes, rule = _transshippment_constraint)\n",
        "\n",
        "def _demand_constraint(m, i):\n",
        "    return sum(m.amount[j,i] for j in m.j) - sum(m.amount[i,j] for j in m.j) == m.Demand[i]\n",
        "m.demand_constraint = Constraint(demand_nodes, rule = _demand_constraint)\n",
        "\n",
        "def _unallowed_routes(m, i, j):\n",
        "    if (m.cost[i,j] == -1) or (i==j):\n",
        "        return 0 == m.amount[i,j]\n",
        "    else:\n",
        "        return Constraint.Skip\n",
        "m.unallowed_routes = Constraint(m.i, m.j, rule = _unallowed_routes)"
      ],
      "execution_count": null,
      "outputs": []
    },
    {
      "cell_type": "markdown",
      "metadata": {
        "id": "2aClm42_hVDV"
      },
      "source": [
        "Lastly we add the objective function, where the sense argument in Objective is whether to minimize or maximize. In this case we are looking to minimize total cost:"
      ]
    },
    {
      "cell_type": "code",
      "metadata": {
        "id": "WNpYtySmhVDV"
      },
      "source": [
        "def obj(m):\n",
        "    return sum(m.cost[i,j]*m.amount[i,j] for j in m.j for i in m.i)\n",
        "m.obj = Objective(rule=obj, sense=minimize)"
      ],
      "execution_count": null,
      "outputs": []
    },
    {
      "cell_type": "markdown",
      "metadata": {
        "id": "AzRmWlnRhVDV"
      },
      "source": [
        "And we can call our solver similar to before:"
      ]
    },
    {
      "cell_type": "code",
      "metadata": {
        "id": "IzYIe267hVDV"
      },
      "source": [
        "SolverFactory('glpk', executable='/usr/bin/glpsol').solve(m).write()"
      ],
      "execution_count": null,
      "outputs": []
    },
    {
      "cell_type": "markdown",
      "metadata": {
        "id": "-brXA9o9hVDV"
      },
      "source": [
        "To get a better understanding of the results, we create a dictionary where the key is the non-zero weighted edge and the value is the optimal amount to be delivered: "
      ]
    },
    {
      "cell_type": "code",
      "metadata": {
        "id": "5SHUxVQwhVDV",
        "outputId": "144f798f-3f40-4de9-8eba-aa730f01e1d0"
      },
      "source": [
        "opt_routes = {k:{'amount': value(m.amount[k])} for k in m.amount.keys() if value(m.amount[k]) != 0}\n",
        "opt_routes"
      ],
      "execution_count": null,
      "outputs": [
        {
          "output_type": "execute_result",
          "data": {
            "text/plain": [
              "{(1, 3): {'amount': 180.0},\n",
              " (2, 4): {'amount': 120.0},\n",
              " (2, 6): {'amount': 180.0},\n",
              " (3, 4): {'amount': 80.0},\n",
              " (3, 5): {'amount': 200.0},\n",
              " (4, 6): {'amount': 200.0},\n",
              " (5, 6): {'amount': 200.0},\n",
              " (6, 7): {'amount': 180.0}}"
            ]
          },
          "metadata": {
            "tags": []
          },
          "execution_count": 32
        }
      ]
    },
    {
      "cell_type": "markdown",
      "metadata": {
        "id": "wZFHb9UghVDV"
      },
      "source": [
        "#### Visualizing the optimal set of routes\n",
        "Then visualize in the same way as we did previously:"
      ]
    },
    {
      "cell_type": "code",
      "metadata": {
        "id": "SIlegRZ-hVDW",
        "outputId": "2a259c75-cb08-4a68-d57c-d980d1cc83d0"
      },
      "source": [
        "G_opt = nx.DiGraph()\n",
        "G_opt.add_edges_from(list(opt_routes.keys()))\n",
        "for edge in G_opt.edges:\n",
        "    G_opt.edges[edge]['Amount'] = opt_routes[edge]['amount']\n",
        "\n",
        "plt.figure(figsize=(12,8))\n",
        "# draw the routes with their specified positions\n",
        "nx.draw_networkx(G_opt, with_labels=True, pos=nodePos)\n",
        "# label the edges with their associated costs\n",
        "nx.draw_networkx_edge_labels(G_opt, pos=nodePos)\n",
        "print(\"The optimal set of routes with capacities\")"
      ],
      "execution_count": null,
      "outputs": [
        {
          "output_type": "stream",
          "text": [
            "The optimal set of routes with capacities\n"
          ],
          "name": "stdout"
        },
        {
          "output_type": "display_data",
          "data": {
            "image/png": "[encoded data removed]",
            "text/plain": [
              "<Figure size 864x576 with 1 Axes>"
            ]
          },
          "metadata": {
            "tags": []
          }
        }
      ]
    },
    {
      "cell_type": "markdown",
      "metadata": {
        "id": "tAWcji8MhVDW"
      },
      "source": [
        "One of the nice advantages of our Pyomo model is that we can quickly and easily add, delete, or modify any variables, costraints, or the objective function. Additionally, the model can handle many different types of models such as linear, nonlinear, MILP, MINLP, disjunctive, stochastic, etc. "
      ]
    },
    {
      "cell_type": "markdown",
      "metadata": {
        "id": "MgOb4e-thVDW"
      },
      "source": [
        "## Summary and References\n",
        "\n",
        "This tutorial highlighted a brief and practical overview of the use of mathemaical programming to solve optimization problems. This subject is vast, with many options for not only other modeling languages, but also optimization solvers. In the references below, you can find more detail about the packages used in this tutorial as well as a variety of resources giving additional background on MP and optimization:\n",
        "\n",
        "1. Pyomo: http://www.pyomo.org/\n",
        "2. NetworkX: https://networkx.org/\n",
        "3. What is mathematical optimization?: https://www.gurobi.com/resources/mathematical-optimization-web-page/\n",
        "4. Everything you need to know as a beginner in mathematical programming:  \n",
        "    https://www.informs.org/Explore/History-of-O.R.-Excellence/O.R.-Methodologies/Optimization-Mathematical-Programming\n",
        "5. Additional Pyomo Model Examples: https://jckantor.github.io/ND-Pyomo-Cookbook/\n",
        "6. Comprehensive list of Optimization Solvers and Modeling Tools (at the bottom): https://en.wikipedia.org/wiki/Pyomo\n",
        "7. Combining Machine Leaning and Mathematical Optimization: http://www.optimizationdirect.com/200706.php "
      ]
    }
  ]
}
